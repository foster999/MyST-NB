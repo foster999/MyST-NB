{
  "cells": [
    {
      "cell_type": "code",
      "execution_count": 1,
      "metadata": {},
      "source": [
        "a=1\n",
        "print(a)"
      ],
      "outputs": [
        {
          "output_type": "display_data",
          "metadata": {},
          "execution_count": 1,
          "data": {
            "unknown": ""
          }
        }
      ]
    }
  ],
  "metadata": {
    "test_name": "notebook1",
    "kernelspec": {
      "display_name": "Python 3",
      "language": "python",
      "name": "python3"
    },
    "language_info": {
      "codemirror_mode": {
        "name": "ipython",
        "version": 3
      },
      "file_extension": ".py",
      "mimetype": "text/x-python",
      "name": "python",
      "nbconvert_exporter": "python",
      "pygments_lexer": "ipython3",
      "version": "3.6.1"
    }
  },
  "nbformat": 4,
  "nbformat_minor": 2
}
